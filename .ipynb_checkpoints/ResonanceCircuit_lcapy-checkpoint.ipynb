{
 "cells": [
  {
   "cell_type": "code",
   "execution_count": null,
   "id": "ffec371c",
   "metadata": {
    "slideshow": {
     "slide_type": "skip"
    }
   },
   "outputs": [],
   "source": [
    "# !pip install lcapy\n",
    "# !pip install pdflatex\n",
    "# !pip install mpl-axes-aligner"
   ]
  },
  {
   "cell_type": "code",
   "execution_count": null,
   "id": "970dfda9",
   "metadata": {},
   "outputs": [],
   "source": [
    "%load_ext autoreload\n",
    "%autoreload 2"
   ]
  },
  {
   "cell_type": "code",
   "execution_count": null,
   "id": "44284262",
   "metadata": {
    "slideshow": {
     "slide_type": "skip"
    }
   },
   "outputs": [],
   "source": [
    "from lcapy import *\n",
    "import numpy as np\n",
    "import matplotlib.pyplot as plt\n",
    "from ipywidgets import interact, interactive\n",
    "from fractions import Fraction\n",
    "\n",
    "import math\n",
    "from IPython.html import widgets\n",
    "import mpl_axes_aligner\n",
    "\n",
    "from plotting import init_plot_style, plot_arr_style\n",
    "plt.rcParams.update(plt.rcParamsDefault)\n",
    "init_plot_style()\n",
    "\n",
    "%matplotlib inline\n"
   ]
  },
  {
   "cell_type": "markdown",
   "id": "5bf855d9",
   "metadata": {
    "slideshow": {
     "slide_type": "skip"
    }
   },
   "source": [
    "-------------------------------------------------------\n",
    "# RLC-circuit "
   ]
  },
  {
   "cell_type": "markdown",
   "id": "f0fdcccd",
   "metadata": {
    "slideshow": {
     "slide_type": "skip"
    }
   },
   "source": [
    "In a first step we consider the simple LC series circuit, with an inductor $L$ and a capacitor $C$. The driving force of the circuit is a sinusoidal input voltage $$u(t) = \\hat{U} \\sin(\\omega t + \\varphi_u) = \\sqrt{2} U_{eff} \\sin(\\omega t + \\varphi_u)$$ with $\\omega=2\\pi f$.\n",
    "\n",
    "Transforming the sinusoidal input voltage to frequency domain yields\n",
    "\n",
    "$$\n",
    "U = U_{eff}e^{j \\varphi_u}\n",
    "$$\n",
    "\n",
    "which is used for later calculations."
   ]
  },
  {
   "cell_type": "code",
   "execution_count": null,
   "id": "795b352e",
   "metadata": {
    "slideshow": {
     "slide_type": "skip"
    }
   },
   "outputs": [],
   "source": [
    "cct = Circuit(\"\"\"\n",
    "W 1_0 1; right=0.5\n",
    "W 0_0 0; right=0.5\n",
    "P 1 0; down\n",
    "W 0 3; right\n",
    "W 3 5; right\n",
    "W 5 7; right\n",
    "W 4 6; right=0.2\n",
    "\n",
    "Vin 1_0 0_0 {u(t)}; down, i={i(t)}\n",
    "L 2 4 L; right=1.2\n",
    "Rs 1 2 R_s; right=1.2\n",
    "C 6 7 C; down=2\n",
    "\"\"\")\n",
    "\n",
    "cct.draw(style='european', label_values=True, draw_nodes='connections', label_nodes=False, label_ids=False)\n"
   ]
  },
  {
   "cell_type": "markdown",
   "id": "b4d1e1db",
   "metadata": {
    "slideshow": {
     "slide_type": "skip"
    }
   },
   "source": [
    "Resonance occurs when the magnitude of the current $i(t)$ obtains its maximum. The magnitude of the current through the LC circuit is given in frequency domain as \n",
    "\n",
    "$$\n",
    "\\begin{align}\n",
    "    |I|^2 = \\frac{|U|^2}{|Z_{tot}|^2}.\n",
    "\\end{align}\n",
    "$$\n",
    "\n",
    "The amplitude of the input voltage $u(t)$ is assumed constant over all frequencies. Then, the maximum of the magnitude of the current $i(t)$ is obtained when the magnitude of the impedance $Z_{tot}$ is minimized. \n",
    "\n",
    "$$\n",
    "\\begin{align}\n",
    "    \\omega_r := \\underset{\\omega}{\\text{arg max}} |I|^2 = \\underset{\\omega}{\\text{arg min}} |Z_{tot}|^2\n",
    "\\end{align}\n",
    "$$\n"
   ]
  },
  {
   "cell_type": "markdown",
   "id": "4a65fd39",
   "metadata": {
    "slideshow": {
     "slide_type": "skip"
    }
   },
   "source": [
    "Thus, we first compute the total impedance of the RLC circuit. \n",
    "\n",
    "$$\n",
    "\\begin{align}\n",
    "Z_{tot} &= R_s + Z_L + Z_C \\\\\n",
    "        &= R_s + jX_L + jX_C \\\\\n",
    "        &= R_s + j \\left( \\omega L - \\frac{1}{\\omega C} \\right) \\\\\n",
    "        &= \\mathcal{Re} ( Z_{tot} ) + j \\mathcal{Im} ( Z_{tot} )\n",
    "\\end{align}\n",
    "$$"
   ]
  },
  {
   "cell_type": "markdown",
   "id": "52ea9451",
   "metadata": {
    "slideshow": {
     "slide_type": "skip"
    }
   },
   "source": [
    "Then, we compute the magnitude of the impedance.\n",
    "$$\n",
    "\\begin{align}\n",
    "|Z_{tot}|^2 &=  \\mathcal{Re} ( Z_{tot} ) ^2 +  \\mathcal{Im} ( Z_{tot} ) ^2 \\\\\n",
    "            &= (R_s)^2 + \\left( \\omega L - \\frac{1}{\\omega C} \\right)^2\n",
    "\\end{align}\n",
    "$$"
   ]
  },
  {
   "cell_type": "markdown",
   "id": "0969245b",
   "metadata": {
    "slideshow": {
     "slide_type": "skip"
    }
   },
   "source": [
    "In order to find the value $\\omega_r$ that minimizes $|Z_{tot}|^2$, we compute the derivative of the impedance magnitude  w.r.t. $\\omega$.\n",
    "\n",
    "$$\n",
    "\\begin{align}\n",
    "\\frac{\\partial |Z_{tot}|^2 }{\\partial \\omega} &\\overset{!}{=} 0 \\\\\n",
    "\\frac{\\partial |Z_{tot}|^2 }{\\partial \\omega} &= 0 + 2 \\underbrace{ \\left( \\omega L - \\frac{1}{\\omega C} \\right) }_{\\mathcal{Im}(Z_{tot})} \\underbrace{ \\left(L+\\frac{1}{\\omega^2C} \\right) }_{\\frac{\\partial \\mathcal{Im}(Z_{tot})}{\\partial \\omega} } \\overset{!}{=} 0 \n",
    "\\end{align}\n",
    "$$\n",
    "\n",
    "In this calculation we assume that $L, C, \\omega \\in \\mathbb{R}^+$. Thus, we require $\\mathcal{Im}(Z_{tot}) \\overset{!}{=} 0$ in order to achieve a real-valued solution. This is achieved when the reactance of the inductor (L) and capacitor (C) are equal in magnitude.\n",
    "\n",
    "$$\n",
    "\\begin{align}\n",
    " \\left( \\omega L - \\frac{1}{\\omega C} \\right) &\\overset{!}{=} 0 \\\\\n",
    " \\omega L &\\overset{!}{=} \\frac{1}{\\omega C} \\\\\n",
    " \\omega &\\overset{!}{=} \\pm \\frac{1}{\\sqrt{LC}} , ~~~\\omega \\in \\mathbb{R}^+\\\\\n",
    " \\Rightarrow \\omega_r &:= \\frac{1}{\\sqrt{LC}} \\\\\n",
    " f_r &:= \\frac{\\omega_r}{2\\pi} = \\frac{1}{2\\pi}\\frac{1}{\\sqrt{LC}} \n",
    "\\end{align}\n",
    "$$\n"
   ]
  },
  {
   "cell_type": "code",
   "execution_count": null,
   "id": "dbfb9555",
   "metadata": {
    "scrolled": false,
    "slideshow": {
     "slide_type": "skip"
    }
   },
   "outputs": [],
   "source": [
    "N = L('L') + C('C') \n",
    "N.draw(style='european', label_values=True, draw_nodes='connections', label_nodes=False, label_ids=False)\n",
    "\n",
    "x = np.logspace(-4, -2, num=50)\n",
    "L_1_range = widgets.SelectionSlider(options = [(\"{:.2f} mH\".format(i*1e3), i) for i in x],\n",
    "                                    description='$L$',continuous_update=False,\n",
    "                                    layout=widgets.Layout(width='50%'))\n",
    "x = np.logspace(-4,-3, 50)\n",
    "C_1_range = widgets.SelectionSlider(options = [(\"{:.2f} µF\".format(i*1e6), i) for i in x],\n",
    "                                    description='$C$',continuous_update=False,\n",
    "                                    layout=widgets.Layout(width='50%'))\n",
    "\n",
    "Inductivity = widgets.Checkbox(value=False, description='Inductivity', disabled=False, indent=False)\n",
    "Capacitor = widgets.Checkbox(value=False, description='Capacitor', disabled=False, indent=False)\n",
    "Sum = widgets.Checkbox(value=False, description='Sum', disabled=False, indent=False)\n",
    "Resonance = widgets.Checkbox(value=False, description='Resonance', disabled=False, indent=False)\n",
    "init_plot_style()\n",
    "\n",
    "@interact(Inductivity=Inductivity, Capacitor=Capacitor, Sum=Sum, Resonance=Resonance, L_1 = L_1_range,  C_1 = C_1_range)\n",
    "def response(Inductivity=True, Capacitor=False, Sum=False, Resonance=False, L_1=1e-3, C_1=1e-4):\n",
    "    \n",
    "    vf = np.logspace(1, np.log10(2000), 4000)\n",
    "    Z_L_imag = L(L_1).Z(f).imag.evaluate(vf)\n",
    "    Z_C_imag = C(C_1).Z(f).imag.evaluate(vf)\n",
    "    Z_tot_imag = Z_L_imag + Z_C_imag\n",
    "    \n",
    "    f_r = 1/np.sqrt(L_1*C_1)/2/np.pi\n",
    "\n",
    "    fig,ax = plt.subplots(1,1,figsize=(13,8))\n",
    "    ax.axhline(linewidth=1, color='k')\n",
    "    if Inductivity:\n",
    "        ax.plot(vf, Z_L_imag, label='Inductor: $X_L = \\omega L$')\n",
    "    if Capacitor:\n",
    "        ax.plot(vf, Z_C_imag, label='Capacitor: $X_C = -1/\\omega C$')\n",
    "    if Sum:\n",
    "        ax.plot(vf, Z_tot_imag, linestyle='--', label='Sum: $X_{tot} = \\omega L-1/\\omega C$')\n",
    "    if Resonance:\n",
    "        ax.scatter(f_r, 0, c='k', label='Resonance frequency: $f_r = 1/\\sqrt{LC}$')\n",
    "    ax.set_xlim([vf.min(), vf.max()])\n",
    "    ax.set_ylim(-20,20)\n",
    "    ax.set_xlabel('Frequency (f)')\n",
    "    ax.set_ylabel('Reactance ($\\Omega$)')\n",
    "    ax.grid(True)\n",
    "    ax.legend(loc='lower right', fontsize=20)\n",
    "     "
   ]
  },
  {
   "cell_type": "markdown",
   "id": "b1becaa5",
   "metadata": {
    "slideshow": {
     "slide_type": "skip"
    }
   },
   "source": [
    "As the amplitude of the input voltage is independent of the frequency, the magnitude of the current is obtained by simply multiplying the admittance magnitude by a constant factor ($U_{eff}$). Similiarly, the phase of the input voltage is constant. Thus, the phase of the current is given by adding up the phase of the voltage ($\\varphi_u$) and the phase of the admittance.\n",
    "\n",
    "$$\n",
    "\\begin{align}\n",
    "    I(\\omega) &= |I(\\omega)| e^{j\\sphericalangle I(\\omega)} = \\frac{U(\\omega)}{Z_{tot}(\\omega)} = U(\\omega) Y_{tot}(\\omega) \\\\[0.5cm]\n",
    "    |I(\\omega)| &= |U(\\omega)||Y_{tot}(\\omega)| = U_{eff}|Y_{tot}(\\omega)| \\\\\n",
    "    \\sphericalangle I(\\omega) &= \\sphericalangle U(\\omega) + \\sphericalangle Y_{tot}(\\omega) = \\varphi_u + \\sphericalangle Y_{tot}(\\omega)\n",
    "\\end{align}\n",
    "$$\n",
    "\n",
    "At the resonance frequency $\\omega_r$, the current amplitude is maximized and is in phase with the input voltage:\n",
    "$$\n",
    "\\begin{align}\n",
    "    I(\\omega_r) = \\frac{U}{R_s} = I_r\n",
    "\\end{align}\n",
    "$$\n"
   ]
  },
  {
   "cell_type": "code",
   "execution_count": null,
   "id": "5aa69d14",
   "metadata": {
    "scrolled": false,
    "slideshow": {
     "slide_type": "slide"
    }
   },
   "outputs": [],
   "source": [
    "N = R('R_s') + L('L') + C('C') \n",
    "N.draw(style='european', label_values=True, draw_nodes='connections', label_nodes=False, label_ids=False)\n",
    "\n",
    "x = np.logspace(-4, -2, num=50)\n",
    "L_1_range = widgets.SelectionSlider(options = [(\"{:.2f} mH\".format(i*1e3), i) for i in x],\n",
    "                                    description='$L$',continuous_update=False,\n",
    "                                    layout=widgets.Layout(width='50%'))\n",
    "\n",
    "x = np.logspace(-4, -3, num=50)\n",
    "C_1_range = widgets.SelectionSlider(options = [(\"{:.2f} µF\".format(i*1e6), i) for i in x],\n",
    "                                    description='$C$',continuous_update=False,\n",
    "                                    layout=widgets.Layout(width='50%'))\n",
    "\n",
    "x = np.logspace(0, 0.5, num=50)\n",
    "Rs_range = widgets.SelectionSlider(options = [(\"{:.2f} Ohm\".format(i), i) for i in x],\n",
    "                                   description='$R_s$',continuous_update=False,\n",
    "                                   layout=widgets.Layout(width='50%'))\n",
    "\n",
    "init_plot_style()\n",
    "\n",
    "@interact(imag=False, phase=False, R_s = Rs_range, L_1 = L_1_range, C_1 = C_1_range)\n",
    "def response(imag=True, phase=True, R_s = 1, L_1=1e-3, C_1=1e-4):\n",
    "\n",
    "    f_r = 1/np.sqrt(L_1*C_1)/2/np.pi\n",
    "    vf = np.logspace(1, np.log10(2000), 4000)\n",
    "    N = R(R_s) + C(C_1) + L(L_1)\n",
    "    \n",
    "    Y = N.Y(f).magnitude.evaluate(vf)\n",
    "    Y_imag = N.Y(f).imag.evaluate(vf)\n",
    "    Y_phase = N.Y(f).phase_degrees.evaluate(vf)\n",
    "    \n",
    "    Y_max = Y[ np.argmin( np.abs(vf-f_r))  ]\n",
    "    vf_left, vf_right = vf[vf<f_r], vf[vf>f_r]\n",
    "    Y_left, Y_right = Y[vf<f_r].tolist(), Y[vf>f_r].tolist()\n",
    "    if not Y_right:\n",
    "        Y_right, vf_right =[0], [vf.max()]\n",
    "    if not Y_left:\n",
    "        Y_left, vf_left =[0], [vf.min()]\n",
    "    f1 = vf_left[ np.argmin(np.abs(Y_left-Y_max/np.sqrt(2))) ]\n",
    "    f2 = vf_right[ np.argmin(np.abs(Y_right-Y_max/np.sqrt(2))) ] \n",
    "    \n",
    "    ####################################################\n",
    "    # Plot:\n",
    "    fig, ax = plt.subplots(1,1,figsize=(13,8))\n",
    "    \n",
    "    ax_phase = ax.twinx()\n",
    "    ax.axhline(linewidth=1, color='k')\n",
    "    lw, fs = 4, 25\n",
    "    \n",
    "    l_amp, = ax.plot(vf, Y, c='chocolate', \n",
    "                     label='Magnitude: $|I(f)|$')\n",
    "    if imag:\n",
    "        ax.plot(vf, Y_imag, color='sandybrown', linestyle='--', \n",
    "                label='Imaginary part: $\\mathcal{Im}(I(f))$')\n",
    "    \n",
    "    if phase:\n",
    "        l_phase, = ax_phase.plot(vf, Y_phase, c='steelblue', linestyle=':', \n",
    "                             label='Phase: $\\sphericalangle I(f)$')\n",
    "    else:\n",
    "        l_phase, = ax_phase.plot([],[], c='steelblue')\n",
    "    \n",
    "    ax.plot( (f_r, f_r), (0, Y_max), 'o-', lw=1, c='slategrey')\n",
    "    ax.text(f_r, -0.15, '$f_r$', fontsize=fs, c='slategrey',\n",
    "            backgroundcolor='white', alpha=1)\n",
    "    \n",
    "    arr_style = plot_arr_style(f1,f2,f_r,vf)\n",
    "    \n",
    "    if (f1<vf.max()) & (f1 != vf.min()):\n",
    "        ax.plot( (f1,f1), (0, Y_max/np.sqrt(2)), 'o-', lw=1, c='slategrey')\n",
    "        ax.text(f1, -0.15, \"$f'$\", fontsize=fs,  c='slategrey')\n",
    "        ax.axvline(x=f1,c=l_amp.get_color(),lw=0.5,alpha=0.4)\n",
    "\n",
    "    f2_ann = vf.max()\n",
    "    if f2<vf.max():\n",
    "        ax.plot( (f2,f2), (0, Y_max/np.sqrt(2)), 'o-', lw=1, c='slategrey')\n",
    "        ax.text(f2, -0.15, \"$f''$\", fontsize=fs,  c='slategrey')\n",
    "        ax.axvline(x=f2,color=l_amp.get_color(),lw=0.5,alpha=0.4)\n",
    "        f2_ann = f2  \n",
    "        \n",
    "    ax.annotate(text='',xy=(f1, Y_max/np.sqrt(2)), xycoords='data',\n",
    "                 xytext=(f2_ann, Y_max/np.sqrt(2)),textcoords='data',\n",
    "                 arrowprops=arr_style,va='center',ha='center')\n",
    "    ax.annotate('$\\\\Delta f$', xy=((f1+f2_ann)/2, Y_max/np.sqrt(2)), \n",
    "                ha='center', va='bottom', color='darkslategrey')\n",
    "    \n",
    "    ax.set_xlabel('Frequency (f)')\n",
    "    ax.set_ylabel('Current Amplitude')\n",
    "    ax_phase.set_ylabel('Phase (rad/$\\pi$)')\n",
    "    \n",
    "    ax.yaxis.label.set_color(l_amp.get_color())\n",
    "    ax.tick_params(axis='y', colors=l_amp.get_color())\n",
    "    ax_phase.yaxis.label.set_color(l_phase.get_color())\n",
    "    ax_phase.tick_params(axis='y', colors=l_phase.get_color())\n",
    "    ax.yaxis.grid(color=l_amp.get_color(), alpha=0.4)\n",
    "    ax_phase.yaxis.grid(color=l_phase.get_color(), alpha=0.4)\n",
    "    \n",
    "    ax.set_yticks([0,Y_max,Y_max/np.sqrt(2)])\n",
    "    ax.set_yticklabels(('0', '$\\\\frac{I}{I_r}$', '$\\\\frac{I}{\\sqrt{2}I_r}}$'))\n",
    "    ax_phase.set_yticks([0,45,-45])\n",
    "    ax_phase.set_yticklabels(('0','$\\\\pi/4$','-$\\\\pi/4$'))\n",
    "    \n",
    "    ax.set_xlim([vf.min(), vf.max()])\n",
    "    \n",
    "    fig.legend(loc=\"upper center\", ncol=3, fontsize=17)\n",
    "    mpl_axes_aligner.align.yaxes(ax, 0, ax_phase, 0, 0.5)\n",
    "\n",
    "     "
   ]
  },
  {
   "cell_type": "markdown",
   "id": "12332421",
   "metadata": {
    "slideshow": {
     "slide_type": "skip"
    }
   },
   "source": [
    "# Voltage magnification in the RLC-circuit"
   ]
  },
  {
   "cell_type": "code",
   "execution_count": null,
   "id": "7080522c",
   "metadata": {
    "slideshow": {
     "slide_type": "skip"
    }
   },
   "outputs": [],
   "source": [
    "N = R('R_s') + L('L') + C('C') \n",
    "N.draw(style='european', label_values=True, draw_nodes='connections', label_nodes=False, label_ids=False)\n",
    "\n",
    "x = np.logspace(-4, -2, num=50)\n",
    "L_1_range = widgets.SelectionSlider(options = [(\"{:.2f} mH\".format(i*1e3), i) for i in x],\n",
    "                                    description='$L$',continuous_update=False,\n",
    "                                    layout=widgets.Layout(width='50%'))\n",
    "\n",
    "x = np.logspace(-4, -3, num=50)\n",
    "C_1_range = widgets.SelectionSlider(options = [(\"{:.2f} µF\".format(i*1e6), i) for i in x],\n",
    "                                    description='$C$',continuous_update=False,\n",
    "                                    layout=widgets.Layout(width='50%'))\n",
    "\n",
    "x = np.logspace(0, 0.5, num=50)\n",
    "Rs_range = widgets.SelectionSlider(options = [(\"{:.2f} Ohm\".format(i), i) for i in x],\n",
    "                                   description='$R_s$',continuous_update=False,\n",
    "                                   layout=widgets.Layout(width='50%'))\n",
    "\n",
    "\n",
    "@interact(R_s = Rs_range, L_1 = L_1_range, C_1 = C_1_range)\n",
    "def response(R_s = 1, L_1=1e-3, C_1=1e-4):\n",
    "    \n",
    "    f_r = 1/np.sqrt(L_1*C_1)/2/np.pi\n",
    "    vf = np.logspace(1, np.log10(2000), 4000)\n",
    "    N = R(R_s) + C(C_1) + L(L_1)\n",
    "    \n",
    "    Z_C = C(C_1).Z(f).magnitude.evaluate(vf)\n",
    "    Z_L = L(L_1).Z(f).magnitude.evaluate(vf)\n",
    "    Z_ges = N.Z(f).magnitude.evaluate(vf)\n",
    "    \n",
    "    U_C = Z_C/Z_ges\n",
    "    U_L = Z_L/Z_ges\n",
    "        \n",
    "    idx_max = np.argmin( np.abs(vf-f_r)) \n",
    "    U_fr = U_C[idx_max]\n",
    " \n",
    "    ##########################################################################\n",
    "    fig,ax = plt.subplots(1,1,figsize=(13,8))\n",
    "    \n",
    "    ax.axhline(linewidth=1, color='k')\n",
    "    ax.plot(vf, U_C, label='$|U_{C}(f)|$')\n",
    "    ax.plot(vf, U_L, label='$|U_{L}(f)|$')\n",
    "    ax.plot(vf, vf/vf, '--', label='$|U|=U_{eff}$')\n",
    "    \n",
    "    ax.plot( (f_r, f_r), (0, U_fr), 'o-', lw=1, c='slategrey')\n",
    "    ax.text(f_r, 0.5, '$f_r$', fontsize=25, c='slategrey', ha='center',\n",
    "            backgroundcolor='white', alpha=1)\n",
    "    \n",
    "    ax.set_xlabel('Frequency (f)')\n",
    "    ax.set_ylabel('Voltage Amplitude')\n",
    "    ax.legend()\n",
    "    Q = 1/R_s*np.sqrt(L_1/C_1)\n",
    "    ax.set_title(r'$Q=\\frac{1}{R_s}\\sqrt{\\frac{L}{C}}$='+'${:.2f}$'.format(Q))\n",
    "    \n",
    "    ax.set_yticks([0,1,U_fr])\n",
    "    ax.set_yticklabels(('0', '$U_{eff}$', f'{np.round(U_fr,2)}$U_{{eff}}$ '))\n",
    "     "
   ]
  },
  {
   "cell_type": "markdown",
   "id": "064ed52a",
   "metadata": {
    "slideshow": {
     "slide_type": "skip"
    }
   },
   "source": [
    "-----------------------------------------------------------\n",
    "# RLC-circuit with real capacitor"
   ]
  },
  {
   "cell_type": "markdown",
   "id": "9ff03f07",
   "metadata": {
    "slideshow": {
     "slide_type": "skip"
    }
   },
   "source": [
    "Next, we consider the case of a RLC series resonance circuit with a real capacitor that is modelled by a resistance in parallel to an ideal capacitor (see figure below).\n",
    "\n",
    "Again, we want to compute the resonance frequency and observe how it is influenced by the additional resistance $R_p$. Ideally, the resistance is infinite. Practically, $R_p$ lies in a range between $10^6 \\dots 10^8 \\Omega$. \n",
    "\n",
    "However, we still look at the case of $R_p$ being quite small, such that the resonance circuit is clearly disturbed by the resistor. "
   ]
  },
  {
   "cell_type": "code",
   "execution_count": null,
   "id": "51819693",
   "metadata": {
    "slideshow": {
     "slide_type": "skip"
    }
   },
   "outputs": [],
   "source": [
    "cct = Circuit(\"\"\"\n",
    "W 1_0 1; right=0.5\n",
    "W 0_0 0; right=0.5\n",
    "P 1 0; down\n",
    "W 0 3; right\n",
    "W 3 5; right\n",
    "W 5 7; right\n",
    "W 4 6; right\n",
    "\n",
    "Vin 1_0 0_0 {u(t)}; down, i={i(t)}\n",
    "L 2 4 L; right=1.2\n",
    "Rs 1 2 R_s; right=1.2\n",
    "C 4 5 C; down\n",
    "Rp 6 7 R_p; down=2\n",
    "\"\"\")\n",
    "\n",
    "cct.draw(style='european', label_values=True, draw_nodes='connections', label_nodes = False,\n",
    "        label_ids=False)\n"
   ]
  },
  {
   "cell_type": "markdown",
   "id": "0bc28176",
   "metadata": {
    "slideshow": {
     "slide_type": "skip"
    }
   },
   "source": [
    "In order to obtain the resonance frequency for the resonance circuit with a real capacitor, we repeat all steps as shown before. \n",
    "\n",
    "Again, we compute the total impedance of the RLC circuit. \n",
    "\n",
    "$$\n",
    "\\begin{align}\n",
    "Z_{tot} &= R_s + Z_L + \\frac{1}{\\frac{1}{Z_C} + \\frac{1}{R_p}} \\\\\n",
    "        &= R_s + jX_L + \\frac{1}{\\frac{1}{j X_C} + \\frac{1}{R_p}} \\\\\n",
    "        &= R_s + j\\omega L + \\frac{1}{j\\omega C + \\frac{1}{R_p}} \\\\\n",
    "        &= R_s + j\\omega L + \\frac{R_p}{j\\omega R_p C + 1} \\\\\n",
    "        &= \\underbrace{ R_s + \\frac{R_{p}}{ (\\omega R_{p} C)^{2} + 1} }_{\\mathcal{Re}(Z_{tot})} + j \\underbrace{ \\left(\\omega L - \\frac{\\omega R_p^2 C}{(\\omega R_p C )^{2} + 1} \\right) }_{\\mathcal{Im}(Z_{tot})}\n",
    "\\end{align}\n",
    "$$\n",
    "\n",
    "Due to the parallel resistance $R_p$, the real part of the total impedance is now dependent on $\\omega$. Therefore, it is no longer sufficient, to simply set the imaginary part to zero. Here, we need to derive $|Z_{tot}|^2$ w.r.t. $\\omega$ and set the result to zero. \n",
    "\n",
    "$$\n",
    "\\begin{align}\n",
    "|Z_{tot}|^2 &= \\left( R_s + \\frac{R_{p}}{ (\\omega R_{p} C)^{2} + 1} \\right)^2 + \\left( \\left(\\omega L - \\frac{\\omega R_p^2 C}{(\\omega R_p C )^{2} + 1} \\right) \\right)^2 \\\\\n",
    "\\frac{\\partial |Z_{tot}|^2 }{\\partial \\omega} &\\overset{!}{=} 0 \\\\\n",
    "\\end{align}\n",
    "$$\n",
    "\n",
    "The step by step solution of the derivative is quite time consuming and left as an exercise for the reader. ;-)\n",
    "\n",
    "$$\n",
    "\\begin{align}\n",
    "\\frac{\\partial |Z_{tot}|^2 }{\\partial \\omega} =\n",
    "\\dfrac{C^4L^2R_p^4{\\omega}^5+2C^2L^2R_p^2{\\omega}^3+\\left(-2C^2R_p^3R_s-C^2R_p^4-2CLR_p^2+L^2\\right){\\omega}}{\\left(C^2R_p^2{\\omega}^2+1\\right)\\sqrt{\\left(C^2R_p^2R_s{\\omega}^2+R_s+R_p\\right)^2+{\\omega}^2\\left(C^2LR_p^2{\\omega}^2-CR_p^2+L\\right)^2}}\n",
    "\\end{align}\n",
    "$$\n"
   ]
  },
  {
   "cell_type": "markdown",
   "id": "b76c52cc",
   "metadata": {
    "slideshow": {
     "slide_type": "skip"
    }
   },
   "source": [
    "The solution for the resonance frequency $\\omega_r = 2\\pi f_r$ is the following:\n",
    "\n",
    "$$\n",
    "\\begin{align}\n",
    "    \\omega_r &= 0 \\\\\n",
    "    \\omega_r &= \\dfrac{\\sqrt{-\\frac{R_\\text{p}\\sqrt{2C^2R_\\text{p}R_\\text{s}+C^2R_\\text{p}^2+2CL}}{L}-1}}{CR_\\text{p}} \\\\\n",
    "    \\omega_r &= -\\dfrac{\\sqrt{-\\frac{R_\\text{p}\\sqrt{2C^2R_\\text{p}R_\\text{s}+C^2R_\\text{p}^2+2CL}}{L}-1}}{CR_\\text{p}} \\\\\n",
    "    \\omega_r &= \\dfrac{\\sqrt{\\frac{R_\\text{p}\\sqrt{2C^2R_\\text{p}R_\\text{s}+C^2R_\\text{p}^2+2CL}}{L}-1}}{CR_\\text{p}} \\\\\n",
    "    \\omega_r &= -\\dfrac{\\sqrt{\\frac{R_\\text{p}\\sqrt{2C^2R_\\text{p}R_\\text{s}+C^2R_\\text{p}^2+2CL}}{L}-1}}{CR_\\text{p}}\n",
    "\\end{align}\n",
    "$$\n",
    "\n",
    "In our application we constrict the solution space to $\\omega_r \\in \\mathbb{R}^+$."
   ]
  },
  {
   "cell_type": "code",
   "execution_count": null,
   "id": "3434f1a9",
   "metadata": {
    "scrolled": false,
    "slideshow": {
     "slide_type": "skip"
    }
   },
   "outputs": [],
   "source": [
    "N = R('R_s') + (C('C_1')|R('R_p')) + L('L_1')\n",
    "N.draw(style='european', label_values=True, draw_nodes='connections', label_nodes=False, label_ids=False)\n",
    "\n",
    "x = np.logspace(-4, -2, num=50)\n",
    "L_1_range = widgets.SelectionSlider(options = [(\"{:.2f} mH\".format(i*1e3), i) for i in x],\n",
    "                                    description='$L$',continuous_update=False,\n",
    "                                    layout=widgets.Layout(width='50%'))\n",
    "\n",
    "x = np.logspace(-4, -3, num=50)\n",
    "C_1_range = widgets.SelectionSlider(options = [(\"{:.2f} µF\".format(i*1e6), i) for i in x],\n",
    "                                    description='$C$',continuous_update=False,\n",
    "                                    layout=widgets.Layout(width='50%'))\n",
    "\n",
    "x = np.logspace(0, 0.5, num=50)\n",
    "Rs_range = widgets.SelectionSlider(options = [(\"{:.2f} Ohm\".format(i), i) for i in x],\n",
    "                                   description='$R_s$',continuous_update=False,\n",
    "                                   layout=widgets.Layout(width='50%'))\n",
    "\n",
    "x = np.logspace(0, 4, num=50)\n",
    "Rp_range = widgets.SelectionSlider(options = [(\"{:.2f} Ohm\".format(i), i) for i in x],\n",
    "                                   description='$R_p$',continuous_update=False,\n",
    "                                   layout=widgets.Layout(width='50%'))\n",
    "\n",
    "def fr_sol(R_p, R_s, L_1, C_1):\n",
    "    a = 2*C_1**2*R_p*R_s+C_1**2*R_p**2+2*C_1*L_1\n",
    "    if (R_p*np.sqrt(a))/L_1-1 < 0:\n",
    "        f_r = 0\n",
    "        print('neg')\n",
    "    else: \n",
    "        f_r = np.sqrt( (R_p*np.sqrt( a ))/L_1-1 ) /(C_1*R_p) /2/np.pi\n",
    "    return f_r\n",
    "\n",
    "@interact(imag=False, phase=False, R_s = Rs_range, R_p=Rp_range, L_1 = L_1_range, C_1 = C_1_range)\n",
    "def response(imag=True, phase=True, R_s = 1, R_p=1, L_1=1e-3, C_1=1e-4):\n",
    "    \n",
    "    vf = np.logspace(1, np.log10(2000), 4000)\n",
    "    N = R(R_s) + (C(C_1)|R(R_p)) + L(L_1)\n",
    "    \n",
    "    Y = N.Y(f).magnitude.evaluate(vf)\n",
    "    Y_imag = N.Y(f).imag.evaluate(vf)\n",
    "    Y_phase = N.Y(f).phase_degrees.evaluate(vf)\n",
    "    \n",
    "    f_r = fr_sol(R_p, R_s, L_1, C_1)\n",
    "    Y_max = Y[ np.argmin( np.abs(vf-f_r))  ]\n",
    "    \n",
    "    vf_left, vf_right = vf[vf<f_r], vf[vf>f_r]\n",
    "    Y_left, Y_right = Y[vf<f_r].tolist(), Y[vf>f_r].tolist()\n",
    "    if not Y_right:\n",
    "        Y_right, vf_right =[0], [vf.max()]\n",
    "    if not Y_left:\n",
    "        Y_left, vf_left =[0], [vf.min()]\n",
    "    f1 = vf_left[ np.argmin(np.abs(Y_left-Y_max/np.sqrt(2))) ]\n",
    "    f2 = vf_right[ np.argmin(np.abs(Y_right-Y_max/np.sqrt(2))) ] \n",
    "        \n",
    "    ###########################################################################\n",
    "    init_plot_style()\n",
    "    fig,ax = plt.subplots(1,1,figsize=(13,8))\n",
    "    \n",
    "    ax_phase = ax.twinx()\n",
    "    ax.axhline(linewidth=1, color='k')\n",
    "    lw, fs = 4, 25\n",
    "    \n",
    "    l_amp, = ax.plot(vf, Y, lw=lw,  c='chocolate', \n",
    "                     label='Magnitude: $|I(f)|$')\n",
    "    if imag:\n",
    "        ax.plot(vf, Y_imag, color='sandybrown', linestyle='--', \n",
    "                label='Imaginary part: $\\mathcal{Im}(I(f))$')\n",
    "    \n",
    "    if phase:\n",
    "        l_phase, = ax_phase.plot(vf, Y_phase, c='steelblue', linestyle=':', \n",
    "                             label='Phase: $\\sphericalangle I(f)$')\n",
    "    else:\n",
    "        l_phase, = ax_phase.plot([],[], c='steelblue')\n",
    "    \n",
    "    ax.plot( (f_r, f_r), (0, Y_max), 'o-', lw=1, c='slategrey')\n",
    "    ax.text(f_r, -0.15, '$f_r$', fontsize=fs, c='slategrey',\n",
    "            backgroundcolor='white', alpha=1)\n",
    "    \n",
    "    arr_style = plot_arr_style(f1,f2,f_r,vf)\n",
    "    \n",
    "    if (f1<vf.max()) & (f1 != vf.min()):\n",
    "        ax.plot( (f1,f1), (0, Y_max/np.sqrt(2)), 'o-', lw=1, c='slategrey')\n",
    "        ax.text(f1, -0.15, \"$f'$\", fontsize=fs,  c='slategrey')\n",
    "        ax.axvline(x=f1,c=l_amp.get_color(),lw=0.5,alpha=0.4)\n",
    "\n",
    "    f2_ann = vf.max()\n",
    "    if f2<vf.max():\n",
    "        ax.plot( (f2,f2), (0, Y_max/np.sqrt(2)), 'o-', lw=1, c='slategrey')\n",
    "        ax.text(f2, -0.15, \"$f''$\", fontsize=fs,  c='slategrey')\n",
    "        ax.axvline(x=f2,color=l_amp.get_color(),lw=0.5,alpha=0.4)\n",
    "        f2_ann = f2 \n",
    "        \n",
    "    ax.annotate(text='',xy=(f1, Y_max/np.sqrt(2)), xycoords='data',\n",
    "                 xytext=(f2_ann, Y_max/np.sqrt(2)),textcoords='data',\n",
    "                 arrowprops=arr_style,va='center',ha='center')\n",
    "    ax.annotate('$\\\\Delta f$', xy=((f1+f2_ann)/2, Y_max/np.sqrt(2)), \n",
    "                ha='center', va='bottom', color='darkslategrey')\n",
    "\n",
    "    ax.set_xlabel('Frequency (f)')\n",
    "    ax.set_ylabel('Current Amplitude')\n",
    "    ax_phase.set_ylabel('Phase (rad/$\\pi$)')\n",
    "    \n",
    "    ax.yaxis.label.set_color(l_amp.get_color())\n",
    "    ax.tick_params(axis='y', colors=l_amp.get_color())\n",
    "    ax_phase.yaxis.label.set_color(l_phase.get_color())\n",
    "    ax_phase.tick_params(axis='y', colors=l_phase.get_color())\n",
    "    ax.yaxis.grid(color=l_amp.get_color(), alpha=0.4)\n",
    "    ax_phase.yaxis.grid(color=l_phase.get_color(), alpha=0.4)\n",
    "\n",
    "    ax.set_yticks([0,Y_max,Y_max/np.sqrt(2)])\n",
    "    ax.set_yticklabels(('0', '$\\\\frac{I}{I_r}$', '$\\\\frac{I}{\\sqrt{2}I_r}}$'))\n",
    "    ax_phase.set_yticks([0,45,-45])\n",
    "    ax_phase.set_yticklabels(('0','$\\\\pi/4$','-$\\\\pi/4$'))\n",
    "    \n",
    "    ax.set_xlim([vf.min(), vf.max()])\n",
    "    \n",
    "    fig.legend(loc=\"upper center\", ncol=3, fontsize=17)\n",
    "    mpl_axes_aligner.align.yaxes(ax, 0, ax_phase, 0, 0.5)\n",
    "     "
   ]
  }
 ],
 "metadata": {
  "interpreter": {
   "hash": "c2d9cd0f9da3edc263eb7ac7fdc0cc6dc46fec14f6939effe0b780ffab6b9a4b"
  },
  "kernelspec": {
   "display_name": "Python 3 (ipykernel)",
   "language": "python",
   "name": "python3"
  },
  "language_info": {
   "codemirror_mode": {
    "name": "ipython",
    "version": 3
   },
   "file_extension": ".py",
   "mimetype": "text/x-python",
   "name": "python",
   "nbconvert_exporter": "python",
   "pygments_lexer": "ipython3",
   "version": "3.8.12"
  }
 },
 "nbformat": 4,
 "nbformat_minor": 5
}
